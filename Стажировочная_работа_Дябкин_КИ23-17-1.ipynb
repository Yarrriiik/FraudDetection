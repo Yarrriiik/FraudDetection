{
 "metadata": {
  "kernelspec": {
   "name": "python3",
   "language": "python",
   "display_name": "Python 3 (ipykernel)"
  },
  "language_info": {
   "codemirror_mode": {
    "name": "python",
    "version": 3
   },
   "file_extension": ".py",
   "mimetype": "text/x-python",
   "name": "python",
   "nbconvert_exporter": "python",
   "pygments_lexer": "ipython3",
   "version": "3.8"
  },
  "colab": {
   "provenance": [],
   "toc_visible": true
  }
 },
 "nbformat_minor": 5,
 "nbformat": 4,
 "cells": [
  {
   "cell_type": "markdown",
   "source": [
    "#### Стажировочная работа"
   ],
   "metadata": {
    "collapsed": false,
    "pycharm": {
     "name": "#%% md\n"
    }
   }
  },
  {
   "cell_type": "markdown",
   "source": [
    "_Дябкин Ярослав сергеевич_"
   ],
   "metadata": {
    "collapsed": false,
    "pycharm": {
     "name": "#%% md\n"
    }
   }
  },
  {
   "cell_type": "markdown",
   "source": [
    "## Введение и постановка задачи"
   ],
   "metadata": {
    "collapsed": false,
    "pycharm": {
     "name": "#%% md\n"
    }
   }
  },
  {
   "cell_type": "markdown",
   "source": [
    "На сегодняшний день задача обнаружения мошеннических аккаунтов является очень важной для обеспечения безопасности онлайн-торговли.\n",
    "\n",
    "В предложенном наборе данных представлена информация о различных объявлениях пользователей.\n",
    "\n",
    "Задача - определить, является ли пользователь мошенником."
   ],
   "metadata": {
    "collapsed": false,
    "pycharm": {
     "name": "#%% md\n"
    }
   }
  },
  {
   "cell_type": "markdown",
   "source": [
    "### Описание входных данных"
   ],
   "metadata": {
    "collapsed": false,
    "pycharm": {
     "name": "#%% md\n"
    }
   }
  },
  {
   "cell_type": "markdown",
   "source": [
    "Файлы\n",
    "Набор данных состоит из 3 файлов.\n",
    "\n",
    "train.csv - данные, используемые для обучения моделей.\n",
    "test.csv - данные, используемые для получения предсказаний.\n",
    "sample_submission.csv - пример файла ответа с требуемой структурой.\n",
    "\n",
    "Столбцы\n",
    "profile - идентификатор пользователя\n",
    "location - город пользователя\n",
    "score - рейтинг пользователя\n",
    "reviews - количество отзывов на пользователя\n",
    "counted - количество оценок\n",
    "item_id - идентификатор объявления\n",
    "item_name - название объявления\n",
    "price - цена, указанная в объявлении\n",
    "category_id - категория объявления\n",
    "status - является ли мошенническим аккаунт (0 - не является, 1 - является)"
   ],
   "metadata": {
    "collapsed": false,
    "pycharm": {
     "name": "#%% md\n"
    }
   }
  },
  {
   "cell_type": "code",
   "execution_count": 1,
   "outputs": [],
   "source": [
    "import pandas as pd\n",
    "from sklearn.ensemble import RandomForestClassifier\n",
    "from sklearn.linear_model import LogisticRegression\n",
    "from sklearn.svm import SVC\n",
    "from sklearn.model_selection import train_test_split, cross_val_score\n",
    "from sklearn.preprocessing import LabelEncoder\n",
    "from sklearn.metrics import accuracy_score"
   ],
   "metadata": {
    "collapsed": false,
    "pycharm": {
     "name": "#%%\n"
    }
   }
  },
  {
   "cell_type": "code",
   "execution_count": 2,
   "outputs": [],
   "source": [
    "# Загрузка данных\n",
    "train = pd.read_csv('train.csv')\n",
    "test = pd.read_csv('test.csv')\n"
   ],
   "metadata": {
    "collapsed": false,
    "pycharm": {
     "name": "#%%\n"
    }
   }
  },
  {
   "cell_type": "code",
   "execution_count": 3,
   "outputs": [],
   "source": [
    "# Удалим ненужные столбцы\n",
    "drop_cols = ['profile', 'item_id', 'item_name']\n",
    "X = train.drop(columns=drop_cols + ['status'])\n",
    "X_test = test.drop(columns=drop_cols)\n",
    "y = train['status']\n",
    "profiles_test = test['profile']\n"
   ],
   "metadata": {
    "collapsed": false,
    "pycharm": {
     "name": "#%%\n"
    }
   }
  },
  {
   "cell_type": "code",
   "execution_count": 4,
   "outputs": [],
   "source": [
    "# Объединяем X и X_test для единой обработки\n",
    "all_data = pd.concat([X, X_test], axis=0)\n",
    "\n",
    "# Кодируем категориальные признаки\n",
    "le_dict = {}\n",
    "for col in all_data.columns:\n",
    "    if all_data[col].dtype == 'object':\n",
    "        le = LabelEncoder()\n",
    "        all_data[col] = le.fit_transform(all_data[col].astype(str))\n",
    "        le_dict[col] = le\n",
    "\n",
    "# Разделим обратно\n",
    "X = all_data.iloc[:len(X)]\n",
    "X_test = all_data.iloc[len(X):]\n"
   ],
   "metadata": {
    "collapsed": false,
    "pycharm": {
     "name": "#%%\n"
    }
   }
  },
  {
   "cell_type": "code",
   "execution_count": 5,
   "outputs": [],
   "source": [
    "# Обучение и сравнение нескольких моделей\n",
    "models = {\n",
    "    'Random Forest': RandomForestClassifier(n_estimators=1000, random_state=42),\n",
    "    'Logistic Regression': LogisticRegression(max_iter=1000),\n",
    "    'SVC': SVC()\n",
    "}\n"
   ],
   "metadata": {
    "collapsed": false,
    "pycharm": {
     "name": "#%%\n"
    }
   }
  },
  {
   "cell_type": "code",
   "execution_count": 6,
   "outputs": [
    {
     "name": "stdout",
     "output_type": "stream",
     "text": [
      "\n",
      "Оценка моделей по кросс-валидации:\n"
     ]
    }
   ],
   "source": [
    "print(\"\\nОценка моделей по кросс-валидации:\")"
   ],
   "metadata": {
    "collapsed": false,
    "pycharm": {
     "name": "#%%\n"
    }
   }
  },
  {
   "cell_type": "code",
   "execution_count": 7,
   "outputs": [
    {
     "name": "stdout",
     "output_type": "stream",
     "text": [
      "Random Forest: 0.8935\n",
      "Logistic Regression: 0.8294\n",
      "SVC: 0.7710\n",
      "\n",
      "Лучшая модель: Random Forest (точность: 0.8935)\n"
     ]
    }
   ],
   "source": [
    "best_model_name = None\n",
    "best_score = 0\n",
    "best_model = None\n",
    "\n",
    "for name, model in models.items():\n",
    "    scores = cross_val_score(model, X, y, cv=5, scoring='accuracy')\n",
    "    mean_score = scores.mean()\n",
    "    print(f\"{name}: {mean_score:.4f}\")\n",
    "    if mean_score > best_score:\n",
    "        best_score = mean_score\n",
    "        best_model_name = name\n",
    "        best_model = model\n",
    "\n",
    "print(f\"\\nЛучшая модель: {best_model_name} (точность: {best_score:.4f})\")"
   ],
   "metadata": {
    "collapsed": false,
    "pycharm": {
     "name": "#%%\n"
    }
   }
  },
  {
   "cell_type": "code",
   "execution_count": 8,
   "outputs": [],
   "source": [
    "# Обучим лучшую модель на всех данных\n",
    "best_model.fit(X, y)\n",
    "\n",
    "# Предсказание на тестовой выборке\n",
    "preds = best_model.predict(X_test)"
   ],
   "metadata": {
    "collapsed": false,
    "pycharm": {
     "name": "#%%\n"
    }
   }
  },
  {
   "cell_type": "code",
   "execution_count": 9,
   "outputs": [
    {
     "name": "stdout",
     "output_type": "stream",
     "text": [
      "\n",
      "Файл 'submission.csv' успешно сохранён.\n"
     ]
    }
   ],
   "source": [
    "# Сохраняем submission\n",
    "submission = pd.DataFrame({\n",
    "    'profile': profiles_test,\n",
    "    'status': preds\n",
    "})\n",
    "\n",
    "submission.to_csv('submission.csv', index=False)\n",
    "print(\"\\nФайл 'submission.csv' успешно сохранён.\")"
   ],
   "metadata": {
    "collapsed": false,
    "pycharm": {
     "name": "#%%\n"
    }
   }
  },
  {
   "cell_type": "markdown",
   "source": [
    "В ходе выполнения работы были обучены и сравнены три модели машинного обучения: Random Forest, Logistic Regression и Support Vector Classifier (SVC). Оценка производилась с помощью кросс-валидации по метрике accuracy:\n",
    "\n",
    "Оценка моделей по кросс-валидации:\n",
    "Random Forest: 0.8935\n",
    "Logistic Regression: 0.8294\n",
    "SVC: 0.7710\n",
    "\n",
    "Наилучший результат показала модель Random Forest с точностью 0.8935, после чего она была обучена на всех доступных обучающих данных.\n",
    "\n",
    "Файл с предсказаниями (submission.csv) был успешно сформирован и отправлен для проверки на платформу Kaggle, используемую в рамках прохождения курса.\n",
    "По результатам проверки на сайте итоговая точность составила 0.951, что подтверждает высокое качество модели на тестовых данных.\n"
   ],
   "metadata": {
    "collapsed": false,
    "pycharm": {
     "name": "#%% md\n"
    }
   }
  },
  {
   "cell_type": "markdown",
   "source": [],
   "metadata": {
    "collapsed": false,
    "pycharm": {
     "name": "#%% md\n"
    }
   }
  }
 ]
}